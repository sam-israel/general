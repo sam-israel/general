{
  "nbformat": 4,
  "nbformat_minor": 0,
  "metadata": {
    "colab": {
      "name": "bug_fix.ipynb",
      "version": "0.3.2",
      "provenance": [],
      "collapsed_sections": [],
      "include_colab_link": true
    },
    "kernelspec": {
      "name": "python3",
      "display_name": "Python 3"
    }
  },
  "cells": [
    {
      "cell_type": "markdown",
      "metadata": {
        "id": "view-in-github",
        "colab_type": "text"
      },
      "source": [
        "<a href=\"https://colab.research.google.com/github/sam-israel/general/blob/master/bug_fix.ipynb\" target=\"_parent\"><img src=\"https://colab.research.google.com/assets/colab-badge.svg\" alt=\"Open In Colab\"/></a>"
      ]
    },
    {
      "metadata": {
        "id": "1Sz8Dc9iNJTC",
        "colab_type": "text"
      },
      "cell_type": "markdown",
      "source": [
        "Import ,and mount google drive"
      ]
    },
    {
      "metadata": {
        "id": "3XdvpmM7NBHE",
        "colab_type": "code",
        "colab": {}
      },
      "cell_type": "code",
      "source": [
        "%reload_ext autoreload\n",
        "%autoreload 2\n",
        "%matplotlib inline\n",
        "\n",
        "!curl https://course-v3.fast.ai/setup/colab | bash\n",
        "\n",
        "from fastai import *\n",
        "from fastai.vision import *\n",
        "import numpy as np\n",
        "import matplotlib.pyplot as plt\n",
        "import os\n",
        "\n",
        "from google.colab import drive\n",
        "drive.mount('/content/drive')\n"
      ],
      "execution_count": 0,
      "outputs": []
    },
    {
      "metadata": {
        "id": "54ftX78sNrMx",
        "colab_type": "text"
      },
      "cell_type": "markdown",
      "source": [
        "There are two formats for path format, the difference between them being the way space character is formatted. (Whether it is written 'My Drive' or 'My\\ Drive')"
      ]
    },
    {
      "metadata": {
        "id": "wOIlQO2rNreq",
        "colab_type": "code",
        "colab": {}
      },
      "cell_type": "code",
      "source": [
        "path_format1 = '/content/drive/My Drive/fellowship/nonperson/data/RL-dataset/person-noperson'\n",
        "path_format2 = '/content/drive/My\\ Drive/fellowship/nonperson/data/RL-dataset/person-noperson'\n"
      ],
      "execution_count": 0,
      "outputs": []
    },
    {
      "metadata": {
        "id": "dTw1SVa0O1IR",
        "colab_type": "text"
      },
      "cell_type": "markdown",
      "source": [
        "Path format 2 is suitable for !ls"
      ]
    },
    {
      "metadata": {
        "id": "m8DbqsWAOGTJ",
        "colab_type": "code",
        "colab": {}
      },
      "cell_type": "code",
      "source": [
        "!ls {path_format1}"
      ],
      "execution_count": 0,
      "outputs": []
    },
    {
      "metadata": {
        "id": "P-dVDPWeOJZD",
        "colab_type": "code",
        "colab": {}
      },
      "cell_type": "code",
      "source": [
        "!ls {path_format2}"
      ],
      "execution_count": 0,
      "outputs": []
    },
    {
      "metadata": {
        "id": "BFKyf-2gQAf2",
        "colab_type": "text"
      },
      "cell_type": "markdown",
      "source": [
        "But path_format1 is suitable for os.listdir"
      ]
    },
    {
      "metadata": {
        "id": "gFL8OKrAPiYB",
        "colab_type": "code",
        "colab": {}
      },
      "cell_type": "code",
      "source": [
        "os.listdir(path_format1)"
      ],
      "execution_count": 0,
      "outputs": []
    },
    {
      "metadata": {
        "id": "4lhiEoJtPvHI",
        "colab_type": "code",
        "colab": {}
      },
      "cell_type": "code",
      "source": [
        "os.listdir(path_format2)"
      ],
      "execution_count": 0,
      "outputs": []
    },
    {
      "metadata": {
        "id": "7eTiSTqbQLN9",
        "colab_type": "text"
      },
      "cell_type": "markdown",
      "source": [
        "Also, ImageDataBunch has to use path_format1"
      ]
    },
    {
      "metadata": {
        "id": "Mi2jJ14vOMmh",
        "colab_type": "code",
        "colab": {}
      },
      "cell_type": "code",
      "source": [
        "data = ImageDataBunch.from_folder(path_format2, ds_tfms=get_transforms(), size=64, bs=64).normalize(imagenet_stats)\n"
      ],
      "execution_count": 0,
      "outputs": []
    },
    {
      "metadata": {
        "id": "mHxk6uUzOabx",
        "colab_type": "code",
        "colab": {}
      },
      "cell_type": "code",
      "source": [
        "data = ImageDataBunch.from_folder(path_format1, ds_tfms=get_transforms(), size=64, bs=64).normalize(imagenet_stats)\n"
      ],
      "execution_count": 0,
      "outputs": []
    }
  ]
}